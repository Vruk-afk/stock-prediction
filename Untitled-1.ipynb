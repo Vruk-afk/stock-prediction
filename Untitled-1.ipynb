{
 "cells": [
  {
   "cell_type": "code",
   "execution_count": 2,
   "metadata": {},
   "outputs": [
    {
     "name": "stderr",
     "output_type": "stream",
     "text": [
      "C:\\Users\\Utkarsh\\AppData\\Local\\Temp\\ipykernel_12276\\1662815981.py:2: DeprecationWarning: \n",
      "Pyarrow will become a required dependency of pandas in the next major release of pandas (pandas 3.0),\n",
      "(to allow more performant data types, such as the Arrow string type, and better interoperability with other libraries)\n",
      "but was not found to be installed on your system.\n",
      "If this would cause problems for you,\n",
      "please provide us feedback at https://github.com/pandas-dev/pandas/issues/54466\n",
      "        \n",
      "  import pandas as pd\n"
     ]
    }
   ],
   "source": [
    "import numpy as np\n",
    "import pandas as pd"
   ]
  },
  {
   "cell_type": "code",
   "execution_count": 6,
   "metadata": {},
   "outputs": [],
   "source": [
    "from NSEDownload import stocks\n",
    "\n",
    "# Gets data without adjustment for events\n",
    "df = stocks.get_data(stock_symbol=\"RELIANCE\", start_date='1-1-2020', end_date='28-1-2024')"
   ]
  },
  {
   "cell_type": "code",
   "execution_count": 7,
   "metadata": {},
   "outputs": [
    {
     "data": {
      "text/plain": [
       "(1052, 12)"
      ]
     },
     "execution_count": 7,
     "metadata": {},
     "output_type": "execute_result"
    }
   ],
   "source": [
    "df.shape"
   ]
  },
  {
   "cell_type": "code",
   "execution_count": 8,
   "metadata": {},
   "outputs": [
    {
     "data": {
      "text/plain": [
       "(1052,)"
      ]
     },
     "execution_count": 8,
     "metadata": {},
     "output_type": "execute_result"
    }
   ],
   "source": [
    "df1=df.reset_index()['Close Price']\n",
    "df1.shape"
   ]
  },
  {
   "cell_type": "code",
   "execution_count": 9,
   "metadata": {},
   "outputs": [],
   "source": [
    "from sklearn.preprocessing import MinMaxScaler\n",
    "scaler=MinMaxScaler(feature_range=(0,1))\n",
    "df1=scaler.fit_transform(np.array(df1).reshape(-1,1))"
   ]
  },
  {
   "cell_type": "code",
   "execution_count": 10,
   "metadata": {},
   "outputs": [],
   "source": [
    "training_size=int(len(df1)*0.65)\n",
    "test_size=len(df1)-training_size\n",
    "train_data,test_data=df1[0:training_size:],df1[training_size:len(df1):]\n"
   ]
  },
  {
   "cell_type": "code",
   "execution_count": 13,
   "metadata": {},
   "outputs": [],
   "source": [
    "def create_dataset(dataset, time_step):\n",
    "\tdataX, dataY = [], []\n",
    "\tfor i in range(len(dataset)-time_step-1):\n",
    "\t\ta = dataset[i:(i+time_step), 0]   ###i=0, 0,1,2,3-----99   100 \n",
    "\t\tdataX.append(a)\n",
    "\t\tdataY.append(dataset[i + time_step, 0])\n",
    "\treturn np.array(dataX), np.array(dataY)\n"
   ]
  },
  {
   "cell_type": "code",
   "execution_count": 14,
   "metadata": {},
   "outputs": [],
   "source": [
    "time_step = 100\n",
    "X_train, y_train = create_dataset(train_data, time_step)\n",
    "X_test, ytest = create_dataset(test_data, time_step)"
   ]
  },
  {
   "cell_type": "code",
   "execution_count": 15,
   "metadata": {},
   "outputs": [],
   "source": [
    "X_train =X_train.reshape(X_train.shape[0],X_train.shape[1] , 1)\n",
    "X_test = X_test.reshape(X_test.shape[0],X_test.shape[1] , 1)"
   ]
  },
  {
   "cell_type": "code",
   "execution_count": 17,
   "metadata": {},
   "outputs": [
    {
     "name": "stderr",
     "output_type": "stream",
     "text": [
      "2024-01-29 00:00:15,322 WARNING:From c:\\Users\\Utkarsh\\Desktop\\minor_project-3\\.venv\\lib\\site-packages\\keras\\src\\losses.py:2976: The name tf.losses.sparse_softmax_cross_entropy is deprecated. Please use tf.compat.v1.losses.sparse_softmax_cross_entropy instead.\n",
      "\n"
     ]
    }
   ],
   "source": [
    "from tensorflow.keras.models import Sequential\n",
    "from tensorflow.keras.layers import Dense\n",
    "from tensorflow.keras.layers import LSTM"
   ]
  },
  {
   "cell_type": "code",
   "execution_count": 18,
   "metadata": {},
   "outputs": [
    {
     "name": "stderr",
     "output_type": "stream",
     "text": [
      "2024-01-29 00:00:54,375 WARNING:From c:\\Users\\Utkarsh\\Desktop\\minor_project-3\\.venv\\lib\\site-packages\\keras\\src\\backend.py:873: The name tf.get_default_graph is deprecated. Please use tf.compat.v1.get_default_graph instead.\n",
      "\n",
      "2024-01-29 00:00:57,141 WARNING:From c:\\Users\\Utkarsh\\Desktop\\minor_project-3\\.venv\\lib\\site-packages\\keras\\src\\optimizers\\__init__.py:309: The name tf.train.Optimizer is deprecated. Please use tf.compat.v1.train.Optimizer instead.\n",
      "\n"
     ]
    }
   ],
   "source": [
    "model=Sequential()\n",
    "model.add(LSTM(50,return_sequences=True,input_shape=(100,1)))\n",
    "model.add(LSTM(50,return_sequences=True))\n",
    "model.add(LSTM(50))\n",
    "model.add(Dense(1))\n",
    "model.compile(loss='mean_squared_error',optimizer='adam')"
   ]
  },
  {
   "cell_type": "code",
   "execution_count": 19,
   "metadata": {},
   "outputs": [
    {
     "name": "stdout",
     "output_type": "stream",
     "text": [
      "Epoch 1/100\n"
     ]
    },
    {
     "name": "stderr",
     "output_type": "stream",
     "text": [
      "2024-01-29 00:01:37,073 WARNING:From c:\\Users\\Utkarsh\\Desktop\\minor_project-3\\.venv\\lib\\site-packages\\keras\\src\\utils\\tf_utils.py:492: The name tf.ragged.RaggedTensorValue is deprecated. Please use tf.compat.v1.ragged.RaggedTensorValue instead.\n",
      "\n"
     ]
    },
    {
     "name": "stdout",
     "output_type": "stream",
     "text": [
      "10/10 [==============================] - 17s 484ms/step - loss: 0.2112 - val_loss: 0.0487\n",
      "Epoch 2/100\n",
      "10/10 [==============================] - 2s 212ms/step - loss: 0.0210 - val_loss: 0.0234\n",
      "Epoch 3/100\n",
      "10/10 [==============================] - 2s 210ms/step - loss: 0.0101 - val_loss: 0.0026\n",
      "Epoch 4/100\n",
      "10/10 [==============================] - 2s 206ms/step - loss: 0.0067 - val_loss: 0.0068\n",
      "Epoch 5/100\n",
      "10/10 [==============================] - 2s 218ms/step - loss: 0.0051 - val_loss: 0.0024\n",
      "Epoch 6/100\n",
      "10/10 [==============================] - 2s 210ms/step - loss: 0.0041 - val_loss: 0.0042\n",
      "Epoch 7/100\n",
      "10/10 [==============================] - 2s 206ms/step - loss: 0.0039 - val_loss: 0.0026\n",
      "Epoch 8/100\n",
      "10/10 [==============================] - 2s 205ms/step - loss: 0.0035 - val_loss: 0.0023\n",
      "Epoch 9/100\n",
      "10/10 [==============================] - 2s 205ms/step - loss: 0.0033 - val_loss: 0.0028\n",
      "Epoch 10/100\n",
      "10/10 [==============================] - 2s 213ms/step - loss: 0.0032 - val_loss: 0.0021\n",
      "Epoch 11/100\n",
      "10/10 [==============================] - 2s 212ms/step - loss: 0.0031 - val_loss: 0.0022\n",
      "Epoch 12/100\n",
      "10/10 [==============================] - 2s 219ms/step - loss: 0.0029 - val_loss: 0.0025\n",
      "Epoch 13/100\n",
      "10/10 [==============================] - 2s 227ms/step - loss: 0.0032 - val_loss: 0.0020\n",
      "Epoch 14/100\n",
      "10/10 [==============================] - 2s 245ms/step - loss: 0.0029 - val_loss: 0.0020\n",
      "Epoch 15/100\n",
      "10/10 [==============================] - 3s 305ms/step - loss: 0.0029 - val_loss: 0.0019\n",
      "Epoch 16/100\n",
      "10/10 [==============================] - 2s 249ms/step - loss: 0.0027 - val_loss: 0.0019\n",
      "Epoch 17/100\n",
      "10/10 [==============================] - 2s 231ms/step - loss: 0.0026 - val_loss: 0.0018\n",
      "Epoch 18/100\n",
      "10/10 [==============================] - 2s 221ms/step - loss: 0.0026 - val_loss: 0.0018\n",
      "Epoch 19/100\n",
      "10/10 [==============================] - 2s 240ms/step - loss: 0.0026 - val_loss: 0.0018\n",
      "Epoch 20/100\n",
      "10/10 [==============================] - 2s 240ms/step - loss: 0.0026 - val_loss: 0.0020\n",
      "Epoch 21/100\n",
      "10/10 [==============================] - 2s 225ms/step - loss: 0.0025 - val_loss: 0.0020\n",
      "Epoch 22/100\n",
      "10/10 [==============================] - 2s 246ms/step - loss: 0.0025 - val_loss: 0.0017\n",
      "Epoch 23/100\n",
      "10/10 [==============================] - 3s 262ms/step - loss: 0.0023 - val_loss: 0.0021\n",
      "Epoch 24/100\n",
      "10/10 [==============================] - 3s 305ms/step - loss: 0.0024 - val_loss: 0.0015\n",
      "Epoch 25/100\n",
      "10/10 [==============================] - 2s 247ms/step - loss: 0.0023 - val_loss: 0.0015\n",
      "Epoch 26/100\n",
      "10/10 [==============================] - 3s 285ms/step - loss: 0.0022 - val_loss: 0.0018\n",
      "Epoch 27/100\n",
      "10/10 [==============================] - 3s 287ms/step - loss: 0.0025 - val_loss: 0.0036\n",
      "Epoch 28/100\n",
      "10/10 [==============================] - 2s 250ms/step - loss: 0.0025 - val_loss: 0.0023\n",
      "Epoch 29/100\n",
      "10/10 [==============================] - 2s 253ms/step - loss: 0.0023 - val_loss: 0.0021\n",
      "Epoch 30/100\n",
      "10/10 [==============================] - 2s 223ms/step - loss: 0.0026 - val_loss: 0.0014\n",
      "Epoch 31/100\n",
      "10/10 [==============================] - 2s 243ms/step - loss: 0.0022 - val_loss: 0.0014\n",
      "Epoch 32/100\n",
      "10/10 [==============================] - 2s 233ms/step - loss: 0.0021 - val_loss: 0.0014\n",
      "Epoch 33/100\n",
      "10/10 [==============================] - 3s 267ms/step - loss: 0.0021 - val_loss: 0.0015\n",
      "Epoch 34/100\n",
      "10/10 [==============================] - 3s 331ms/step - loss: 0.0020 - val_loss: 0.0023\n",
      "Epoch 35/100\n",
      "10/10 [==============================] - 3s 250ms/step - loss: 0.0027 - val_loss: 0.0015\n",
      "Epoch 36/100\n",
      "10/10 [==============================] - 2s 251ms/step - loss: 0.0022 - val_loss: 0.0017\n",
      "Epoch 37/100\n",
      "10/10 [==============================] - 3s 329ms/step - loss: 0.0020 - val_loss: 0.0013\n",
      "Epoch 38/100\n",
      "10/10 [==============================] - 3s 276ms/step - loss: 0.0019 - val_loss: 0.0014\n",
      "Epoch 39/100\n",
      "10/10 [==============================] - 3s 257ms/step - loss: 0.0020 - val_loss: 0.0014\n",
      "Epoch 40/100\n",
      "10/10 [==============================] - 3s 274ms/step - loss: 0.0019 - val_loss: 0.0016\n",
      "Epoch 41/100\n",
      "10/10 [==============================] - 3s 348ms/step - loss: 0.0018 - val_loss: 0.0017\n",
      "Epoch 42/100\n",
      "10/10 [==============================] - 5s 527ms/step - loss: 0.0022 - val_loss: 0.0014\n",
      "Epoch 43/100\n",
      "10/10 [==============================] - 3s 309ms/step - loss: 0.0019 - val_loss: 0.0014\n",
      "Epoch 44/100\n",
      "10/10 [==============================] - 3s 325ms/step - loss: 0.0017 - val_loss: 0.0013\n",
      "Epoch 45/100\n",
      "10/10 [==============================] - 3s 304ms/step - loss: 0.0018 - val_loss: 0.0012\n",
      "Epoch 46/100\n",
      "10/10 [==============================] - 3s 284ms/step - loss: 0.0017 - val_loss: 0.0013\n",
      "Epoch 47/100\n",
      "10/10 [==============================] - 3s 277ms/step - loss: 0.0019 - val_loss: 0.0028\n",
      "Epoch 48/100\n",
      "10/10 [==============================] - 3s 267ms/step - loss: 0.0020 - val_loss: 0.0015\n",
      "Epoch 49/100\n",
      "10/10 [==============================] - 3s 250ms/step - loss: 0.0025 - val_loss: 0.0019\n",
      "Epoch 50/100\n",
      "10/10 [==============================] - 2s 232ms/step - loss: 0.0020 - val_loss: 0.0011\n",
      "Epoch 51/100\n",
      "10/10 [==============================] - 3s 264ms/step - loss: 0.0016 - val_loss: 0.0017\n",
      "Epoch 52/100\n",
      "10/10 [==============================] - 2s 252ms/step - loss: 0.0021 - val_loss: 0.0012\n",
      "Epoch 53/100\n",
      "10/10 [==============================] - 2s 252ms/step - loss: 0.0017 - val_loss: 0.0016\n",
      "Epoch 54/100\n",
      "10/10 [==============================] - 2s 236ms/step - loss: 0.0016 - val_loss: 0.0011\n",
      "Epoch 55/100\n",
      "10/10 [==============================] - 2s 246ms/step - loss: 0.0016 - val_loss: 0.0012\n",
      "Epoch 56/100\n",
      "10/10 [==============================] - 2s 238ms/step - loss: 0.0016 - val_loss: 0.0010\n",
      "Epoch 57/100\n",
      "10/10 [==============================] - 2s 241ms/step - loss: 0.0015 - val_loss: 0.0014\n",
      "Epoch 58/100\n",
      "10/10 [==============================] - 2s 230ms/step - loss: 0.0015 - val_loss: 0.0010\n",
      "Epoch 59/100\n",
      "10/10 [==============================] - 2s 235ms/step - loss: 0.0014 - val_loss: 0.0011\n",
      "Epoch 60/100\n",
      "10/10 [==============================] - 2s 219ms/step - loss: 0.0015 - val_loss: 0.0010\n",
      "Epoch 61/100\n",
      "10/10 [==============================] - 2s 217ms/step - loss: 0.0015 - val_loss: 0.0011\n",
      "Epoch 62/100\n",
      "10/10 [==============================] - 2s 226ms/step - loss: 0.0015 - val_loss: 0.0010\n",
      "Epoch 63/100\n",
      "10/10 [==============================] - 2s 220ms/step - loss: 0.0014 - val_loss: 9.3992e-04\n",
      "Epoch 64/100\n",
      "10/10 [==============================] - 2s 220ms/step - loss: 0.0014 - val_loss: 9.9371e-04\n",
      "Epoch 65/100\n",
      "10/10 [==============================] - 2s 227ms/step - loss: 0.0014 - val_loss: 9.9464e-04\n",
      "Epoch 66/100\n",
      "10/10 [==============================] - 2s 223ms/step - loss: 0.0014 - val_loss: 9.2565e-04\n",
      "Epoch 67/100\n",
      "10/10 [==============================] - 2s 229ms/step - loss: 0.0014 - val_loss: 9.0325e-04\n",
      "Epoch 68/100\n",
      "10/10 [==============================] - 2s 223ms/step - loss: 0.0014 - val_loss: 0.0020\n",
      "Epoch 69/100\n",
      "10/10 [==============================] - 2s 224ms/step - loss: 0.0020 - val_loss: 9.2027e-04\n",
      "Epoch 70/100\n",
      "10/10 [==============================] - 2s 230ms/step - loss: 0.0015 - val_loss: 0.0023\n",
      "Epoch 71/100\n",
      "10/10 [==============================] - 2s 220ms/step - loss: 0.0018 - val_loss: 0.0014\n",
      "Epoch 72/100\n",
      "10/10 [==============================] - 2s 228ms/step - loss: 0.0014 - val_loss: 9.1001e-04\n",
      "Epoch 73/100\n",
      "10/10 [==============================] - 2s 221ms/step - loss: 0.0013 - val_loss: 9.7549e-04\n",
      "Epoch 74/100\n",
      "10/10 [==============================] - 2s 221ms/step - loss: 0.0013 - val_loss: 0.0013\n",
      "Epoch 75/100\n",
      "10/10 [==============================] - 2s 223ms/step - loss: 0.0015 - val_loss: 0.0011\n",
      "Epoch 76/100\n",
      "10/10 [==============================] - 2s 226ms/step - loss: 0.0015 - val_loss: 0.0016\n",
      "Epoch 77/100\n",
      "10/10 [==============================] - 2s 226ms/step - loss: 0.0015 - val_loss: 7.9079e-04\n",
      "Epoch 78/100\n",
      "10/10 [==============================] - 2s 223ms/step - loss: 0.0012 - val_loss: 8.1989e-04\n",
      "Epoch 79/100\n",
      "10/10 [==============================] - 2s 221ms/step - loss: 0.0013 - val_loss: 8.4177e-04\n",
      "Epoch 80/100\n",
      "10/10 [==============================] - 2s 224ms/step - loss: 0.0013 - val_loss: 7.8451e-04\n",
      "Epoch 81/100\n",
      "10/10 [==============================] - 2s 223ms/step - loss: 0.0014 - val_loss: 7.9673e-04\n",
      "Epoch 82/100\n",
      "10/10 [==============================] - 2s 224ms/step - loss: 0.0012 - val_loss: 8.0101e-04\n",
      "Epoch 83/100\n",
      "10/10 [==============================] - 2s 246ms/step - loss: 0.0012 - val_loss: 7.6285e-04\n",
      "Epoch 84/100\n",
      "10/10 [==============================] - 3s 264ms/step - loss: 0.0012 - val_loss: 7.7963e-04\n",
      "Epoch 85/100\n",
      "10/10 [==============================] - 2s 250ms/step - loss: 0.0012 - val_loss: 7.1440e-04\n",
      "Epoch 86/100\n",
      "10/10 [==============================] - 6s 630ms/step - loss: 0.0011 - val_loss: 7.4812e-04\n",
      "Epoch 87/100\n",
      "10/10 [==============================] - 6s 610ms/step - loss: 0.0011 - val_loss: 6.9602e-04\n",
      "Epoch 88/100\n",
      "10/10 [==============================] - 6s 599ms/step - loss: 0.0013 - val_loss: 8.1044e-04\n",
      "Epoch 89/100\n",
      "10/10 [==============================] - 5s 519ms/step - loss: 0.0011 - val_loss: 0.0010\n",
      "Epoch 90/100\n",
      "10/10 [==============================] - 5s 531ms/step - loss: 0.0011 - val_loss: 0.0011\n",
      "Epoch 91/100\n",
      "10/10 [==============================] - 7s 695ms/step - loss: 0.0012 - val_loss: 0.0013\n",
      "Epoch 92/100\n",
      "10/10 [==============================] - 7s 662ms/step - loss: 0.0014 - val_loss: 6.5815e-04\n",
      "Epoch 93/100\n",
      "10/10 [==============================] - 7s 682ms/step - loss: 0.0010 - val_loss: 8.7428e-04\n",
      "Epoch 94/100\n",
      "10/10 [==============================] - 6s 658ms/step - loss: 0.0011 - val_loss: 7.8226e-04\n",
      "Epoch 95/100\n",
      "10/10 [==============================] - 7s 735ms/step - loss: 0.0012 - val_loss: 6.4630e-04\n",
      "Epoch 96/100\n",
      "10/10 [==============================] - 7s 709ms/step - loss: 0.0013 - val_loss: 9.5311e-04\n",
      "Epoch 97/100\n",
      "10/10 [==============================] - 6s 582ms/step - loss: 0.0012 - val_loss: 7.0619e-04\n",
      "Epoch 98/100\n",
      "10/10 [==============================] - 6s 594ms/step - loss: 0.0010 - val_loss: 7.3666e-04\n",
      "Epoch 99/100\n",
      "10/10 [==============================] - 6s 592ms/step - loss: 0.0011 - val_loss: 7.7643e-04\n",
      "Epoch 100/100\n",
      "10/10 [==============================] - 7s 746ms/step - loss: 0.0010 - val_loss: 6.8517e-04\n"
     ]
    },
    {
     "data": {
      "text/plain": [
       "<keras.src.callbacks.History at 0x2b1d3a623e0>"
      ]
     },
     "execution_count": 19,
     "metadata": {},
     "output_type": "execute_result"
    }
   ],
   "source": [
    "model.fit(X_train,y_train,validation_data=(X_test,ytest),epochs=100,batch_size=64,verbose=1)"
   ]
  }
 ],
 "metadata": {
  "kernelspec": {
   "display_name": ".venv",
   "language": "python",
   "name": "python3"
  },
  "language_info": {
   "codemirror_mode": {
    "name": "ipython",
    "version": 3
   },
   "file_extension": ".py",
   "mimetype": "text/x-python",
   "name": "python",
   "nbconvert_exporter": "python",
   "pygments_lexer": "ipython3",
   "version": "3.10.11"
  }
 },
 "nbformat": 4,
 "nbformat_minor": 2
}
